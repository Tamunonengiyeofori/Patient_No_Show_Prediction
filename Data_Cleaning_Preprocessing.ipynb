{
 "cells": [
  {
   "cell_type": "markdown",
   "metadata": {},
   "source": [
    "# PREDICTING PATIENT MEDICAL APPOINTMENT NO-SHOWS\n",
    "\n",
    "The objecive of this project is to build a predictive model that uses traditional machine learning algorithms (Logistic Regression), ensemble and stacking algorithms (Random Forest, Decision Trees and XGboost), and deep learning algorithms (LSTM and CNN) to predict the probability of a patient not showing up for a scheduled medical appointment. The dataset used in this project is from Kaggle and contains information from 100k medical appointments in Brazil. \n",
    "The dataset includes information such as patient ID, appointment ID, age, sex, scheduled date, appointment date, neighborhood, scholarship, hypertension, diabetes, alcoholism, handicap, SMS received and No-shows (the target variable that shows whether the patient showed up for the appointment or not)\n",
    "\n",
    "\n",
    "#### 1.1\tBackground\n",
    "Healthcare faces some challenges that limit its ability to cater to patients adequately. These include limited access to medical professionals (Soemon Takakuwa and Katagiri 2007), matching patient preferences, wait times, and patients' failure to attend scheduled appointments (Bailey 1952). The problem of appointment no-shows and cancellations is a challenge for healthcare providers, particularly in appointment scheduling systems (AS), as it disrupts the continuity of care for patients (Alaeddini et al. 2011). \n",
    "“No-show” refers to a patient missing their medical appointments without any cancellation or prior notification to the health care provider. This means that the appointment slot is wasted as neither the defiant patient nor the other patient can utilise the appointment because the appointment schedule has patients who would not attend (Hanauer and Huang 2014). \n",
    "While existing strategies to reduce patient no-shows have shown some effectiveness, patient no-shows remain significantly high. This led researchers to explore mathematical modelling using machine learning algorithms (Chattopadhyay 2013) to predict attendance and improve AS systems (Stubbs et al. 2012). Several no-show prediction models have been proposed using traditional machine learning algorithms like regression, tree, SVM, clustering, and ensemble algorithms, with logistic regression (LR) variants being the most used techniques for modelling binary responses to forecast attendance (Carreras-García et al. 2020). However, in contrast to state-of-the-art approaches for predicting patient no-shows, there is little research exploring the combination of traditional machine learning models and more complex machine learning models, such as gradient boosting algorithms (Lee et al. 2017) and deep learning networks recurrent neural networks (Dashtban and Li 2019).\n",
    "\n",
    "#### 1.2\tProblem Definition\n",
    "The high rate of patient no-shows is a problem for healthcare as it significantly impacts revenue, costs, resources, and patient health outcomes. Addressing this challenge will optimise healthcare operations and improve patient care. To solve this problem, this research uses machine learning algorithms to predict patient no-shows. By developing and comparing predictive models using traditional machine learning, deep learning RNNs, and gradient-boosting algorithms, this study seeks to identify the most effective approach.\n",
    "\n",
    "#### Objectives\n",
    "1.\tTo investigate the current applications of Machine learning algorithms in medical appointment scheduling and no-show prediction.\n",
    "2.\tTo identify factors that influence a patient’s no-show behaviour.\n",
    "3.\tTo evaluate the effectiveness of traditional machine learning and deep learning algorithms in forecasting patient appointment no-shows.\n",
    "4.\tTo explore and implement data resampling techniques to address the class imbalance in the dataset and enhance the performance of predictive models.\n",
    "5.\tTo compare the performance of implemented machine learning and deep learning models to determine the most suitable model for integration into a healthcare appointment scheduling system.\n",
    "\n",
    "\n",
    "#### Some research questions that will be answered in this project include:\n",
    "* RQ2: What significant factors contribute to patients missing scheduled medical appointments?\n",
    "* RQ3: How accurately can the implemented traditional machine learning and deep learning algorithms predict whether a patient will show up for their medical appointment?\n",
    "* RQ4: What data resampling techniques effectively address the class imbalance issue in the dataset, thereby improving the performance of the predictive models?\n",
    "* RQ5: Which of the implemented machine learning and deep learning models show superior performance and are most suitable for integration into a healthcare appointment scheduling system?\n",
    "\n"
   ]
  },
  {
   "cell_type": "markdown",
   "metadata": {},
   "source": [
    "Some modules used in this project need to be installed before running the code \n",
    "Some plot pre-configurations for visualizations are also done as seen below;"
   ]
  },
  {
   "cell_type": "code",
   "execution_count": 1040,
   "metadata": {},
   "outputs": [],
   "source": [
    "# Data Preprocessing libraries\n",
    "import pandas as pd\n",
    "import numpy as np\n",
    "\n",
    "# Data Visualisation libraries\n",
    "import matplotlib.pyplot as plt\n",
    "# import seaborn as sns\n",
    "import missingno as msno\n"
   ]
  },
  {
   "cell_type": "markdown",
   "metadata": {},
   "source": [
    "Some utility functions are defined below to help with the data preprocessing and cleaning."
   ]
  },
  {
   "cell_type": "code",
   "execution_count": 1041,
   "metadata": {},
   "outputs": [],
   "source": [
    "# Utility functions for data cleaning\n",
    "\n",
    "def fill_missing_cols(df: pd.DataFrame) -> pd.DataFrame:\n",
    "    \"\"\"\n",
    "    Fill missing values in the specified columns across dataframe with NaN\n",
    "    Input: df - pandas dataframe\n",
    "    Output: df - pandas dataframe with standardized missing values\n",
    "    \"\"\"\n",
    "    new_df = df.copy() \n",
    "    for col in new_df.columns:\n",
    "        new_df[col].replace(['?', ' ', '', '_', '-', 'unknown', 'nan', 'N/A', 'na', None], np.nan, inplace=True)\n",
    "    return new_df\n",
    "\n",
    "def check_neg_zero_values(df: pd.DataFrame) -> None:\n",
    "    \"\"\"\n",
    "    Check for negative and zero values in the dataframe\n",
    "    Input: df - pandas dataframe\n",
    "    Output: None\n",
    "    \"\"\"\n",
    "    for col in df.columns:\n",
    "        if df[col].dtype in ['int16', 'int32', 'int64', 'float16', 'float32', 'float64']:\n",
    "            print(f\"Column: {col}\")\n",
    "            print(f\"Negative values: {df[df[col] < 0].shape[0]}\")\n",
    "            print(f\"Zero values: {df[df[col] == 0].shape[0]}\")\n",
    "            print(\"\\n\")\n",
    "\n",
    "def visualise_missing_data(df: pd.DataFrame) -> None:\n",
    "    \"\"\"\n",
    "    Visualise missing data in the dataframe\n",
    "    Input: df - pandas dataframe\n",
    "    Output: None\n",
    "    \"\"\"\n",
    "    # missing_data = df.isnull().sum()\n",
    "    # missing_data = missing_data[missing_data > 0]\n",
    "    # missing_data.sort_values(inplace=True)\n",
    "    # missing_data.plot.bar()\n",
    "    \n",
    "    # Visualise missing data using missingno library\n",
    "    msno.matrix(df)\n",
    "    msno.bar(df)\n",
    "    msno.heatmap(df)\n",
    "    msno.dendrogram(df)\n",
    "    plt.show()\n",
    "    \n",
    "    # plt.figure(figsize=(6, 6))\n",
    "    # sns.heatmap(df.isna(), cbar=False, cmap='viridis')\n",
    "    # plt.show()\n",
    "    \n",
    "def drop_missing_data(df: pd.DataFrame, threshold: float = 0.5) -> pd.DataFrame:\n",
    "    \"\"\"\n",
    "    Drop columns with missing values greater than the threshold\n",
    "    Input: df - pandas dataframe\n",
    "           threshold - float value to specify the threshold for missing values\n",
    "    Output: df - pandas dataframe with columns dropped\n",
    "    \"\"\"\n",
    "    new_df = df.copy()\n",
    "    new_df.dropna(axis=1, thresh=threshold*len(new_df), inplace=True)\n",
    "    return new_df\n",
    "\n",
    "def select_numerical_series(df:pd.DataFrame, include_counts:bool=False) -> pd.Series:\n",
    "    numeric:pd.Series = df.select_dtypes([\"int16\",\"int64\",\"float16\",\"float64\"])\n",
    "    if not include_counts:\n",
    "        return df.select_dtypes([\"int16\",\"int64\",\"float16\",\"float64\"])\n",
    "    # print(select_numerical_series(appointment_df,True))\n",
    "    return numeric, len(numeric.columns.to_list())\n",
    "\n",
    "def select_categorical_series(df:pd.DataFrame, include_counts:bool=False) -> pd.Series:\n",
    "    categorical:pd.Series = df.select_dtypes([\"object\"])\n",
    "    if not include_counts:\n",
    "        return df.select_dtypes([\"object\"])\n",
    "    # print(select_categorical_series(appointment_df,True))\n",
    "    return categorical, len(categorical.columns.to_list())\n",
    "\n",
    "def get_outliers (df:pd.DataFrame, col:str, ascending: bool = False) -> pd.DataFrame:\n",
    "    \"\"\"\n",
    "    Get the outliers in the specified column\n",
    "    Input: df - pandas dataframe\n",
    "           col - column name\n",
    "           ascending - boolean value to specify the order of the outliers\n",
    "    Output: df - pandas dataframe with outliers\n",
    "    \"\"\"\n",
    "    # check if the columns is numerical\n",
    "    if df[col].dtype not in ['int16', 'int32', 'int64', 'float16', 'float32', 'float64']:\n",
    "        print(f\"Column {col} is not numerical\")\n",
    "        return None\n",
    "    \n",
    "    Q1 = df[col].quantile(0.25)\n",
    "    Q3 = df[col].quantile(0.75)\n",
    "    IQR = Q3 - Q1\n",
    "    outliers = df[(df[col] < (Q1 - 1.5 * IQR)) | (df[col] > (Q3 + 1.5 * IQR))]\n",
    "    # return outliers with count \n",
    "    return outliers\n",
    "\n",
    "\n",
    "def plot_outliers(df: pd.DataFrame):\n",
    "    \"\"\"\n",
    "    Plot a distribution of outliers across all columns in the dataframe\n",
    "    Input: df - pandas dataframe\n",
    "    Output: None (plots the distribution)\n",
    "    \"\"\"\n",
    "    # Create an empty dictionary to store outlier counts for each column\n",
    "    outlier_counts = {}\n",
    "\n",
    "    # Iterate over each column in the dataframe\n",
    "    for col in df.columns:\n",
    "        # Check if the column is numerical\n",
    "        if df[col].dtype in ['int16', 'int32', 'int64', 'float16', 'float32', 'float64']:\n",
    "            # Calculate quartiles and IQR\n",
    "            Q1 = df[col].quantile(0.25)\n",
    "            Q3 = df[col].quantile(0.75)\n",
    "            IQR = Q3 - Q1\n",
    "\n",
    "            # Find outliers\n",
    "            outliers = df[(df[col] < (Q1 - 1.5 * IQR)) | (df[col] > (Q3 + 1.5 * IQR))]\n",
    "            \n",
    "            # Store the count of outliers for the column\n",
    "            outlier_counts[col] = len(outliers)\n",
    "\n",
    "    # Plot the distribution of outliers\n",
    "    plt.bar(outlier_counts.keys(), outlier_counts.values())\n",
    "    plt.xlabel('Columns')\n",
    "    plt.ylabel('Number of Outliers')\n",
    "    plt.title('Distribution of Outliers Across Columns')\n",
    "    plt.xticks(rotation=45)\n",
    "    plt.show()\n",
    "    \n",
    "def rename_columns_lwr(df: pd.DataFrame) -> pd.DataFrame:\n",
    "    \"\"\"\n",
    "    Rename columns to lowercase\n",
    "    Input: df - pandas dataframe\n",
    "    Output: df - pandas dataframe with columns renamed to lowercase\n",
    "    \"\"\"\n",
    "    new_df = df.copy()\n",
    "    new_df.columns = new_df.columns.str.lower()\n",
    "    return new_df"
   ]
  },
  {
   "cell_type": "markdown",
   "metadata": {},
   "source": [
    "Loading Dataset"
   ]
  },
  {
   "cell_type": "code",
   "execution_count": 1044,
   "metadata": {},
   "outputs": [],
   "source": [
    "data_df = pd.read_csv(\"data/medical_appointments.csv\")"
   ]
  },
  {
   "cell_type": "code",
   "execution_count": 1045,
   "metadata": {},
   "outputs": [],
   "source": [
    "# create a copy of the dataframe\n",
    "appointment_df = data_df.copy()"
   ]
  },
  {
   "cell_type": "markdown",
   "metadata": {},
   "source": [
    "### 1. Data Examination"
   ]
  },
  {
   "cell_type": "markdown",
   "metadata": {},
   "source": [
    "I have created a copy of the original dataset to work with and I will load the dataset and display the first few rows to understand the structure of the dataset.\n",
    "\n",
    "I will also have also have a look at the appointment dataset and inspect its attributes, columns, and data types."
   ]
  },
  {
   "cell_type": "code",
   "execution_count": 1046,
   "metadata": {},
   "outputs": [
    {
     "data": {
      "text/html": [
       "<div>\n",
       "<style scoped>\n",
       "    .dataframe tbody tr th:only-of-type {\n",
       "        vertical-align: middle;\n",
       "    }\n",
       "\n",
       "    .dataframe tbody tr th {\n",
       "        vertical-align: top;\n",
       "    }\n",
       "\n",
       "    .dataframe thead th {\n",
       "        text-align: right;\n",
       "    }\n",
       "</style>\n",
       "<table border=\"1\" class=\"dataframe\">\n",
       "  <thead>\n",
       "    <tr style=\"text-align: right;\">\n",
       "      <th></th>\n",
       "      <th>PatientID</th>\n",
       "      <th>AppointmentID</th>\n",
       "      <th>Gender</th>\n",
       "      <th>ScheduledDay</th>\n",
       "      <th>AppointmentDay</th>\n",
       "      <th>Age</th>\n",
       "      <th>Neighbourhood</th>\n",
       "      <th>Scholarship</th>\n",
       "      <th>Hypertension</th>\n",
       "      <th>Diabetes</th>\n",
       "      <th>Alcoholism</th>\n",
       "      <th>Handicap</th>\n",
       "      <th>SMS_received</th>\n",
       "      <th>No-show</th>\n",
       "    </tr>\n",
       "  </thead>\n",
       "  <tbody>\n",
       "    <tr>\n",
       "      <th>0</th>\n",
       "      <td>2.987250e+13</td>\n",
       "      <td>5642903</td>\n",
       "      <td>F</td>\n",
       "      <td>2016-04-29T18:38:08Z</td>\n",
       "      <td>2016-04-29T00:00:00Z</td>\n",
       "      <td>62</td>\n",
       "      <td>JARDIM DA PENHA</td>\n",
       "      <td>0</td>\n",
       "      <td>1</td>\n",
       "      <td>0</td>\n",
       "      <td>0</td>\n",
       "      <td>0</td>\n",
       "      <td>0</td>\n",
       "      <td>No</td>\n",
       "    </tr>\n",
       "    <tr>\n",
       "      <th>1</th>\n",
       "      <td>5.589978e+14</td>\n",
       "      <td>5642503</td>\n",
       "      <td>M</td>\n",
       "      <td>2016-04-29T16:08:27Z</td>\n",
       "      <td>2016-04-29T00:00:00Z</td>\n",
       "      <td>56</td>\n",
       "      <td>JARDIM DA PENHA</td>\n",
       "      <td>0</td>\n",
       "      <td>0</td>\n",
       "      <td>0</td>\n",
       "      <td>0</td>\n",
       "      <td>0</td>\n",
       "      <td>0</td>\n",
       "      <td>No</td>\n",
       "    </tr>\n",
       "    <tr>\n",
       "      <th>2</th>\n",
       "      <td>4.262962e+12</td>\n",
       "      <td>5642549</td>\n",
       "      <td>F</td>\n",
       "      <td>2016-04-29T16:19:04Z</td>\n",
       "      <td>2016-04-29T00:00:00Z</td>\n",
       "      <td>62</td>\n",
       "      <td>MATA DA PRAIA</td>\n",
       "      <td>0</td>\n",
       "      <td>0</td>\n",
       "      <td>0</td>\n",
       "      <td>0</td>\n",
       "      <td>0</td>\n",
       "      <td>0</td>\n",
       "      <td>No</td>\n",
       "    </tr>\n",
       "    <tr>\n",
       "      <th>3</th>\n",
       "      <td>8.679512e+11</td>\n",
       "      <td>5642828</td>\n",
       "      <td>F</td>\n",
       "      <td>2016-04-29T17:29:31Z</td>\n",
       "      <td>2016-04-29T00:00:00Z</td>\n",
       "      <td>8</td>\n",
       "      <td>PONTAL DE CAMBURI</td>\n",
       "      <td>0</td>\n",
       "      <td>0</td>\n",
       "      <td>0</td>\n",
       "      <td>0</td>\n",
       "      <td>0</td>\n",
       "      <td>0</td>\n",
       "      <td>No</td>\n",
       "    </tr>\n",
       "    <tr>\n",
       "      <th>4</th>\n",
       "      <td>8.841186e+12</td>\n",
       "      <td>5642494</td>\n",
       "      <td>F</td>\n",
       "      <td>2016-04-29T16:07:23Z</td>\n",
       "      <td>2016-04-29T00:00:00Z</td>\n",
       "      <td>56</td>\n",
       "      <td>JARDIM DA PENHA</td>\n",
       "      <td>0</td>\n",
       "      <td>1</td>\n",
       "      <td>1</td>\n",
       "      <td>0</td>\n",
       "      <td>0</td>\n",
       "      <td>0</td>\n",
       "      <td>No</td>\n",
       "    </tr>\n",
       "  </tbody>\n",
       "</table>\n",
       "</div>"
      ],
      "text/plain": [
       "      PatientID  AppointmentID Gender          ScheduledDay  \\\n",
       "0  2.987250e+13        5642903      F  2016-04-29T18:38:08Z   \n",
       "1  5.589978e+14        5642503      M  2016-04-29T16:08:27Z   \n",
       "2  4.262962e+12        5642549      F  2016-04-29T16:19:04Z   \n",
       "3  8.679512e+11        5642828      F  2016-04-29T17:29:31Z   \n",
       "4  8.841186e+12        5642494      F  2016-04-29T16:07:23Z   \n",
       "\n",
       "         AppointmentDay  Age      Neighbourhood  Scholarship  Hypertension  \\\n",
       "0  2016-04-29T00:00:00Z   62    JARDIM DA PENHA            0             1   \n",
       "1  2016-04-29T00:00:00Z   56    JARDIM DA PENHA            0             0   \n",
       "2  2016-04-29T00:00:00Z   62      MATA DA PRAIA            0             0   \n",
       "3  2016-04-29T00:00:00Z    8  PONTAL DE CAMBURI            0             0   \n",
       "4  2016-04-29T00:00:00Z   56    JARDIM DA PENHA            0             1   \n",
       "\n",
       "   Diabetes  Alcoholism  Handicap  SMS_received No-show  \n",
       "0         0           0         0             0      No  \n",
       "1         0           0         0             0      No  \n",
       "2         0           0         0             0      No  \n",
       "3         0           0         0             0      No  \n",
       "4         1           0         0             0      No  "
      ]
     },
     "execution_count": 1046,
     "metadata": {},
     "output_type": "execute_result"
    }
   ],
   "source": [
    "appointment_df.head()"
   ]
  },
  {
   "cell_type": "code",
   "execution_count": 1047,
   "metadata": {},
   "outputs": [
    {
     "data": {
      "text/plain": [
       "(110527, 14)"
      ]
     },
     "execution_count": 1047,
     "metadata": {},
     "output_type": "execute_result"
    }
   ],
   "source": [
    "# Dataset Dimensions\n",
    "appointment_df.shape"
   ]
  },
  {
   "cell_type": "code",
   "execution_count": 1048,
   "metadata": {},
   "outputs": [
    {
     "name": "stdout",
     "output_type": "stream",
     "text": [
      "<class 'pandas.core.frame.DataFrame'>\n",
      "RangeIndex: 110527 entries, 0 to 110526\n",
      "Data columns (total 14 columns):\n",
      " #   Column          Non-Null Count   Dtype  \n",
      "---  ------          --------------   -----  \n",
      " 0   PatientID       110527 non-null  float64\n",
      " 1   AppointmentID   110527 non-null  int64  \n",
      " 2   Gender          110527 non-null  object \n",
      " 3   ScheduledDay    110527 non-null  object \n",
      " 4   AppointmentDay  110527 non-null  object \n",
      " 5   Age             110527 non-null  int64  \n",
      " 6   Neighbourhood   110527 non-null  object \n",
      " 7   Scholarship     110527 non-null  int64  \n",
      " 8   Hypertension    110527 non-null  int64  \n",
      " 9   Diabetes        110527 non-null  int64  \n",
      " 10  Alcoholism      110527 non-null  int64  \n",
      " 11  Handicap        110527 non-null  int64  \n",
      " 12  SMS_received    110527 non-null  int64  \n",
      " 13  No-show         110527 non-null  object \n",
      "dtypes: float64(1), int64(8), object(5)\n",
      "memory usage: 11.8+ MB\n"
     ]
    }
   ],
   "source": [
    "appointment_df.info()"
   ]
  },
  {
   "cell_type": "markdown",
   "metadata": {},
   "source": [
    "The appointment dataset contains 14 feature variables and 110527 observations of type float, integer and object. The variables are as follows:\n",
    "\n",
    "patientid: This column contains unique identifiers for each patient. It is represented in scientific notation (e.g., 2.987250e+13) and is likely stored as a numerical data type, such as float or integer.\n",
    "\n",
    "AppointmentID: Similar to PatientID, this column contains unique identifiers for each appointment. It is also represented in scientific notation and stored as a numerical data type.\n",
    "\n",
    "Gender: Represents the gender of the patient (e.g., 'F' for female, 'M' for male). It is stored as a categorical data type, typically either string or character.\n",
    "\n",
    "ScheduledDay: Indicates the date and time the appointment was scheduled. The data type is likely datetime, storing both date and time information.\n",
    "\n",
    "AppointmentDay: Represents the date of the appointment. Like ScheduledDay, it is stored as a datetime data type.\n",
    "\n",
    "Age: Indicates the age of the patient. It is stored as a numerical data type, likely integer.\n",
    "\n",
    "Neighbourhood: Denotes the neighborhood where the appointment takes place. It is stored as a categorical data type, typically string or character.\n",
    "\n",
    "Scholarship: Indicates whether the patient receives financial aid. It is stored as a binary categorical variable (0 for no, 1 for yes).\n",
    "\n",
    "Hypertension: Represents whether the patient has hypertension (0 for no, 1 for yes). It is stored as a binary categorical variable.\n",
    "\n",
    "Diabetes: Indicates whether the patient has diabetes (0 for no, 1 for yes). It is stored as a binary categorical variable.\n",
    "\n",
    "Alcoholism: Denotes whether the patient is an alcoholic (0 for no, 1 for yes). It is stored as a binary categorical variable.\n",
    "\n",
    "Handicap: Indicates whether the patient has a handicap (0-4 for the degree of handicap). It is stored as a numerical.\n",
    "\n",
    "SMS_received: Represents whether the patient received an SMS reminder for the appointment (0 for no, 1 for yes). It is stored as a binary categorical variable.\n",
    "\n",
    "No-show: Denotes whether the patient showed up for the appointment (‘No’ for showed up, ‘Yes’ for did not show up). It is stored as a categorical variable, typically string or character."
   ]
  },
  {
   "cell_type": "code",
   "execution_count": 1049,
   "metadata": {},
   "outputs": [
    {
     "data": {
      "text/html": [
       "<div>\n",
       "<style scoped>\n",
       "    .dataframe tbody tr th:only-of-type {\n",
       "        vertical-align: middle;\n",
       "    }\n",
       "\n",
       "    .dataframe tbody tr th {\n",
       "        vertical-align: top;\n",
       "    }\n",
       "\n",
       "    .dataframe thead th {\n",
       "        text-align: right;\n",
       "    }\n",
       "</style>\n",
       "<table border=\"1\" class=\"dataframe\">\n",
       "  <thead>\n",
       "    <tr style=\"text-align: right;\">\n",
       "      <th></th>\n",
       "      <th>PatientID</th>\n",
       "      <th>AppointmentID</th>\n",
       "      <th>Age</th>\n",
       "      <th>Scholarship</th>\n",
       "      <th>Hypertension</th>\n",
       "      <th>Diabetes</th>\n",
       "      <th>Alcoholism</th>\n",
       "      <th>Handicap</th>\n",
       "      <th>SMS_received</th>\n",
       "    </tr>\n",
       "  </thead>\n",
       "  <tbody>\n",
       "    <tr>\n",
       "      <th>count</th>\n",
       "      <td>1.105270e+05</td>\n",
       "      <td>1.105270e+05</td>\n",
       "      <td>110527.000000</td>\n",
       "      <td>110527.000000</td>\n",
       "      <td>110527.000000</td>\n",
       "      <td>110527.000000</td>\n",
       "      <td>110527.000000</td>\n",
       "      <td>110527.000000</td>\n",
       "      <td>110527.000000</td>\n",
       "    </tr>\n",
       "    <tr>\n",
       "      <th>mean</th>\n",
       "      <td>1.474963e+14</td>\n",
       "      <td>5.675305e+06</td>\n",
       "      <td>37.088874</td>\n",
       "      <td>0.098266</td>\n",
       "      <td>0.197246</td>\n",
       "      <td>0.071865</td>\n",
       "      <td>0.030400</td>\n",
       "      <td>0.022248</td>\n",
       "      <td>0.321026</td>\n",
       "    </tr>\n",
       "    <tr>\n",
       "      <th>std</th>\n",
       "      <td>2.560949e+14</td>\n",
       "      <td>7.129575e+04</td>\n",
       "      <td>23.110205</td>\n",
       "      <td>0.297675</td>\n",
       "      <td>0.397921</td>\n",
       "      <td>0.258265</td>\n",
       "      <td>0.171686</td>\n",
       "      <td>0.161543</td>\n",
       "      <td>0.466873</td>\n",
       "    </tr>\n",
       "    <tr>\n",
       "      <th>min</th>\n",
       "      <td>3.921784e+04</td>\n",
       "      <td>5.030230e+06</td>\n",
       "      <td>-1.000000</td>\n",
       "      <td>0.000000</td>\n",
       "      <td>0.000000</td>\n",
       "      <td>0.000000</td>\n",
       "      <td>0.000000</td>\n",
       "      <td>0.000000</td>\n",
       "      <td>0.000000</td>\n",
       "    </tr>\n",
       "    <tr>\n",
       "      <th>25%</th>\n",
       "      <td>4.172614e+12</td>\n",
       "      <td>5.640286e+06</td>\n",
       "      <td>18.000000</td>\n",
       "      <td>0.000000</td>\n",
       "      <td>0.000000</td>\n",
       "      <td>0.000000</td>\n",
       "      <td>0.000000</td>\n",
       "      <td>0.000000</td>\n",
       "      <td>0.000000</td>\n",
       "    </tr>\n",
       "    <tr>\n",
       "      <th>50%</th>\n",
       "      <td>3.173184e+13</td>\n",
       "      <td>5.680573e+06</td>\n",
       "      <td>37.000000</td>\n",
       "      <td>0.000000</td>\n",
       "      <td>0.000000</td>\n",
       "      <td>0.000000</td>\n",
       "      <td>0.000000</td>\n",
       "      <td>0.000000</td>\n",
       "      <td>0.000000</td>\n",
       "    </tr>\n",
       "    <tr>\n",
       "      <th>75%</th>\n",
       "      <td>9.439172e+13</td>\n",
       "      <td>5.725524e+06</td>\n",
       "      <td>55.000000</td>\n",
       "      <td>0.000000</td>\n",
       "      <td>0.000000</td>\n",
       "      <td>0.000000</td>\n",
       "      <td>0.000000</td>\n",
       "      <td>0.000000</td>\n",
       "      <td>1.000000</td>\n",
       "    </tr>\n",
       "    <tr>\n",
       "      <th>max</th>\n",
       "      <td>9.999816e+14</td>\n",
       "      <td>5.790484e+06</td>\n",
       "      <td>115.000000</td>\n",
       "      <td>1.000000</td>\n",
       "      <td>1.000000</td>\n",
       "      <td>1.000000</td>\n",
       "      <td>1.000000</td>\n",
       "      <td>4.000000</td>\n",
       "      <td>1.000000</td>\n",
       "    </tr>\n",
       "  </tbody>\n",
       "</table>\n",
       "</div>"
      ],
      "text/plain": [
       "          PatientID  AppointmentID            Age    Scholarship  \\\n",
       "count  1.105270e+05   1.105270e+05  110527.000000  110527.000000   \n",
       "mean   1.474963e+14   5.675305e+06      37.088874       0.098266   \n",
       "std    2.560949e+14   7.129575e+04      23.110205       0.297675   \n",
       "min    3.921784e+04   5.030230e+06      -1.000000       0.000000   \n",
       "25%    4.172614e+12   5.640286e+06      18.000000       0.000000   \n",
       "50%    3.173184e+13   5.680573e+06      37.000000       0.000000   \n",
       "75%    9.439172e+13   5.725524e+06      55.000000       0.000000   \n",
       "max    9.999816e+14   5.790484e+06     115.000000       1.000000   \n",
       "\n",
       "        Hypertension       Diabetes     Alcoholism       Handicap  \\\n",
       "count  110527.000000  110527.000000  110527.000000  110527.000000   \n",
       "mean        0.197246       0.071865       0.030400       0.022248   \n",
       "std         0.397921       0.258265       0.171686       0.161543   \n",
       "min         0.000000       0.000000       0.000000       0.000000   \n",
       "25%         0.000000       0.000000       0.000000       0.000000   \n",
       "50%         0.000000       0.000000       0.000000       0.000000   \n",
       "75%         0.000000       0.000000       0.000000       0.000000   \n",
       "max         1.000000       1.000000       1.000000       4.000000   \n",
       "\n",
       "        SMS_received  \n",
       "count  110527.000000  \n",
       "mean        0.321026  \n",
       "std         0.466873  \n",
       "min         0.000000  \n",
       "25%         0.000000  \n",
       "50%         0.000000  \n",
       "75%         1.000000  \n",
       "max         1.000000  "
      ]
     },
     "execution_count": 1049,
     "metadata": {},
     "output_type": "execute_result"
    }
   ],
   "source": [
    "appointment_df.describe()"
   ]
  },
  {
   "cell_type": "markdown",
   "metadata": {},
   "source": [
    "#### OBSERVATIONS\n",
    "Some of the columns in the dataset are stored as numerical data types, such as integer or float, while others are stored as categorical data types, such as string or character. The target variable, No-show, is a categorical variable that indicates whether the patient showed up for the appointment. The dataset contains a mix of numerical and categorical features, which may require different preprocessing steps before building a predictive model. "
   ]
  },
  {
   "cell_type": "markdown",
   "metadata": {},
   "source": [
    "### 2. DATA CLEANING AND PREPROCESSING"
   ]
  },
  {
   "cell_type": "code",
   "execution_count": 1050,
   "metadata": {},
   "outputs": [],
   "source": [
    "# rename columns to lowercase\n",
    "appointment_df = rename_columns_lwr(appointment_df)"
   ]
  },
  {
   "cell_type": "code",
   "execution_count": 1051,
   "metadata": {},
   "outputs": [],
   "source": [
    "# Change patient ID to string\n",
    "appointment_df[\"patientid\"] = appointment_df[\"patientid\"].astype(str)"
   ]
  },
  {
   "cell_type": "markdown",
   "metadata": {},
   "source": [
    "Encode Target Variable (No-Show) column\n",
    "\n",
    "The No-show column is the target variable, which will be used to predict whether a patient will show up for an appointment. It is a binary categorical variable that will be later encoded as 0 for 'No' (showed up) and 1 for 'Yes' (did not show up).\n",
    "Also the date columns ScheduledDay and AppointmentDay appear among the categorical variables due to incorrect data type. They will be changed consequently to the correct format"
   ]
  },
  {
   "cell_type": "code",
   "execution_count": 1052,
   "metadata": {},
   "outputs": [],
   "source": [
    "# Change the values in the No-show column to 0 and 1 for No and Yes respectively making it binary\n",
    "# appointment_df[\"no-show\"] = appointment_df[\"no-show\"].apply(lambda x: 0 if x == \"no\" else 1)\n",
    "\n",
    "appointment_df[\"no-show\"] = np.where(appointment_df[\"no-show\"] == \"No\", 0, 1)"
   ]
  },
  {
   "cell_type": "code",
   "execution_count": 1053,
   "metadata": {},
   "outputs": [
    {
     "name": "stdout",
     "output_type": "stream",
     "text": [
      "patientid         0\n",
      "appointmentid     0\n",
      "gender            0\n",
      "scheduledday      0\n",
      "appointmentday    0\n",
      "age               0\n",
      "neighbourhood     0\n",
      "scholarship       0\n",
      "hypertension      0\n",
      "diabetes          0\n",
      "alcoholism        0\n",
      "handicap          0\n",
      "sms_received      0\n",
      "no-show           0\n",
      "dtype: int64\n"
     ]
    }
   ],
   "source": [
    "# Check for missing/null values\n",
    "print(appointment_df.isnull().sum())"
   ]
  },
  {
   "cell_type": "code",
   "execution_count": 1054,
   "metadata": {},
   "outputs": [
    {
     "name": "stdout",
     "output_type": "stream",
     "text": [
      "0\n"
     ]
    }
   ],
   "source": [
    "# check for duplicate rows \n",
    "print(appointment_df.duplicated().sum())"
   ]
  },
  {
   "cell_type": "markdown",
   "metadata": {},
   "source": [
    "There are no duplicate rows in the dataset, which is a good sign that the data is clean and does not contain any redundant information. The dataset contains 110527 rows and 14 columns, which is consistent with the original dataset. The data types of the columns are also consistent with the original dataset, with the exception of the ScheduledDay and AppointmentDay columns, which wil be converted to datetime data types."
   ]
  },
  {
   "cell_type": "code",
   "execution_count": 1055,
   "metadata": {},
   "outputs": [
    {
     "name": "stderr",
     "output_type": "stream",
     "text": [
      "c:\\Users\\ktamu\\OneDrive\\Desktop\\Coursework\\Masters_Dissertation\\venv\\lib\\site-packages\\missingno\\missingno.py:264: RuntimeWarning: overflow encountered in scalar multiply\n",
      "  ax2.set_yticklabels([int(n * len(df)) for n in ax1.get_yticks()], fontsize=fontsize)\n",
      "c:\\Users\\ktamu\\OneDrive\\Desktop\\Coursework\\Masters_Dissertation\\venv\\lib\\site-packages\\missingno\\missingno.py:271: RuntimeWarning: overflow encountered in scalar multiply\n",
      "  ax2.set_yticklabels([int(n * len(df)) for n in ax1.get_yticks()], fontsize=fontsize)\n",
      "c:\\Users\\ktamu\\OneDrive\\Desktop\\Coursework\\Masters_Dissertation\\venv\\lib\\site-packages\\seaborn\\matrix.py:309: UserWarning: Attempting to set identical low and high xlims makes transformation singular; automatically expanding.\n",
      "  ax.set(xlim=(0, self.data.shape[1]), ylim=(0, self.data.shape[0]))\n",
      "c:\\Users\\ktamu\\OneDrive\\Desktop\\Coursework\\Masters_Dissertation\\venv\\lib\\site-packages\\seaborn\\matrix.py:309: UserWarning: Attempting to set identical low and high ylims makes transformation singular; automatically expanding.\n",
      "  ax.set(xlim=(0, self.data.shape[1]), ylim=(0, self.data.shape[0]))\n",
      "c:\\Users\\ktamu\\OneDrive\\Desktop\\Coursework\\Masters_Dissertation\\venv\\lib\\site-packages\\scipy\\cluster\\hierarchy.py:2821: UserWarning: Attempting to set identical low and high ylims makes transformation singular; automatically expanding.\n",
      "  ax.set_ylim([dvw, 0])\n"
     ]
    },
    {
     "data": {
      "image/png": "[encoded data removed]",
      "text/plain": [
       "<Figure size 2500x1000 with 4 Axes>"
      ]
     },
     "metadata": {},
     "output_type": "display_data"
    },
    {
     "data": {
      "image/png": "[encoded data removed]",
      "text/plain": [
       "<Figure size 2000x1200 with 2 Axes>"
      ]
     },
     "metadata": {},
     "output_type": "display_data"
    },
    {
     "data": {
      "image/png": "[encoded data removed]",
      "text/plain": [
       "<Figure size 2500x1000 with 1 Axes>"
      ]
     },
     "metadata": {},
     "output_type": "display_data"
    }
   ],
   "source": [
    "# visualise missing data\n",
    "visualise_missing_data(appointment_df)"
   ]
  },
  {
   "cell_type": "markdown",
   "metadata": {},
   "source": [
    "Missing Values: \n",
    "\n",
    "The dataset shows that there are no missing values in any of the columns. However, the data types of some columns may need to be adjusted to better reflect the nature of the data. For example, PatientID and AppointmentID should be stored as strings or characters, while ScheduledDay and AppointmentDay should be stored as datetime objects."
   ]
  },
  {
   "cell_type": "code",
   "execution_count": 1056,
   "metadata": {},
   "outputs": [
    {
     "name": "stdout",
     "output_type": "stream",
     "text": [
      "patientid          62299\n",
      "appointmentid     110527\n",
      "gender                 2\n",
      "scheduledday      103549\n",
      "appointmentday        27\n",
      "age                  104\n",
      "neighbourhood         81\n",
      "scholarship            2\n",
      "hypertension           2\n",
      "diabetes               2\n",
      "alcoholism             2\n",
      "handicap               5\n",
      "sms_received           2\n",
      "no-show                2\n",
      "dtype: int64\n"
     ]
    }
   ],
   "source": [
    "# Show the number of unique values in each column\n",
    "print(appointment_df.nunique())"
   ]
  },
  {
   "cell_type": "markdown",
   "metadata": {},
   "source": [
    "The distribution of unique values for each feature variable in the dataset is shown above to help identify potential issues, such as missing values or outliers especially in binary and categorical variables like Scholarship, gender, Hypertension, Diabetes, Alcoholism, Handicap, SMS_received, and No-show that should have only two unique values (0 and 1) or M and F.\n",
    "The distribution of values across the dataset columns show that there are some outliers in the Age column. The minimum age is -1, which is not possible. The maximum age is 115, which is possible but may be an outlier. The Handicap column also contains values greater than 1, which is not expected. These outliers will be addressed in the data cleaning process."
   ]
  },
  {
   "cell_type": "code",
   "execution_count": 1057,
   "metadata": {},
   "outputs": [
    {
     "name": "stdout",
     "output_type": "stream",
     "text": [
      "patientid\n",
      "822145925426128.0    88\n",
      "99637671331.0        84\n",
      "26886125921145.0     70\n",
      "33534783483176.0     65\n",
      "6264198675331.0      62\n",
      "                     ..\n",
      "862263621811.0        1\n",
      "9267587227475.0       1\n",
      "5764355598913.0       1\n",
      "5712491287569.0       1\n",
      "15576631729893.0      1\n",
      "Name: count, Length: 62299, dtype: int64\n",
      "appointmentid\n",
      "5642903    1\n",
      "5692618    1\n",
      "5687640    1\n",
      "5740664    1\n",
      "5740598    1\n",
      "          ..\n",
      "5718442    1\n",
      "5426425    1\n",
      "5424230    1\n",
      "5720832    1\n",
      "5629448    1\n",
      "Name: count, Length: 110527, dtype: int64\n",
      "gender\n",
      "F    71840\n",
      "M    38687\n",
      "Name: count, dtype: int64\n"
     ]
    },
    {
     "name": "stdout",
     "output_type": "stream",
     "text": [
      "scheduledday\n",
      "2016-05-06T07:09:54Z    24\n",
      "2016-05-06T07:09:53Z    23\n",
      "2016-04-25T17:18:27Z    22\n",
      "2016-04-25T17:17:46Z    22\n",
      "2016-04-25T17:17:23Z    19\n",
      "                        ..\n",
      "2016-05-02T09:53:25Z     1\n",
      "2016-05-30T09:12:28Z     1\n",
      "2016-05-16T09:10:04Z     1\n",
      "2016-05-09T10:17:48Z     1\n",
      "2016-04-27T13:30:56Z     1\n",
      "Name: count, Length: 103549, dtype: int64\n",
      "appointmentday\n",
      "2016-06-06T00:00:00Z    4692\n",
      "2016-05-16T00:00:00Z    4613\n",
      "2016-05-09T00:00:00Z    4520\n",
      "2016-05-30T00:00:00Z    4514\n",
      "2016-06-08T00:00:00Z    4479\n",
      "2016-05-11T00:00:00Z    4474\n",
      "2016-06-01T00:00:00Z    4464\n",
      "2016-06-07T00:00:00Z    4416\n",
      "2016-05-12T00:00:00Z    4394\n",
      "2016-05-02T00:00:00Z    4376\n",
      "2016-05-18T00:00:00Z    4373\n",
      "2016-05-17T00:00:00Z    4372\n",
      "2016-06-02T00:00:00Z    4310\n",
      "2016-05-10T00:00:00Z    4308\n",
      "2016-05-31T00:00:00Z    4279\n",
      "2016-05-05T00:00:00Z    4273\n",
      "2016-05-19T00:00:00Z    4270\n",
      "2016-05-03T00:00:00Z    4256\n",
      "2016-05-04T00:00:00Z    4168\n",
      "2016-06-03T00:00:00Z    4090\n",
      "2016-05-24T00:00:00Z    4009\n",
      "2016-05-13T00:00:00Z    3987\n",
      "2016-05-25T00:00:00Z    3909\n",
      "2016-05-06T00:00:00Z    3879\n",
      "2016-05-20T00:00:00Z    3828\n",
      "2016-04-29T00:00:00Z    3235\n",
      "2016-05-14T00:00:00Z      39\n",
      "Name: count, dtype: int64\n",
      "age\n",
      " 0      3539\n",
      " 1      2273\n",
      " 52     1746\n",
      " 49     1652\n",
      " 53     1651\n",
      "        ... \n",
      " 115       5\n",
      " 100       4\n",
      " 102       2\n",
      " 99        1\n",
      "-1         1\n",
      "Name: count, Length: 104, dtype: int64\n",
      "neighbourhood\n",
      "JARDIM CAMBURI                 7717\n",
      "MARIA ORTIZ                    5805\n",
      "RESISTÊNCIA                    4431\n",
      "JARDIM DA PENHA                3877\n",
      "ITARARÉ                        3514\n",
      "                               ... \n",
      "ILHA DO BOI                      35\n",
      "ILHA DO FRADE                    10\n",
      "AEROPORTO                         8\n",
      "ILHAS OCEÂNICAS DE TRINDADE       2\n",
      "PARQUE INDUSTRIAL                 1\n",
      "Name: count, Length: 81, dtype: int64\n",
      "scholarship\n",
      "0    99666\n",
      "1    10861\n",
      "Name: count, dtype: int64\n",
      "hypertension\n",
      "0    88726\n",
      "1    21801\n",
      "Name: count, dtype: int64\n",
      "diabetes\n",
      "0    102584\n",
      "1      7943\n",
      "Name: count, dtype: int64\n",
      "alcoholism\n",
      "0    107167\n",
      "1      3360\n",
      "Name: count, dtype: int64\n",
      "handicap\n",
      "0    108286\n",
      "1      2042\n",
      "2       183\n",
      "3        13\n",
      "4         3\n",
      "Name: count, dtype: int64\n",
      "sms_received\n",
      "0    75045\n",
      "1    35482\n",
      "Name: count, dtype: int64\n",
      "no-show\n",
      "0    88208\n",
      "1    22319\n",
      "Name: count, dtype: int64\n"
     ]
    }
   ],
   "source": [
    "# shows the number of values across all the columns in the dataset\n",
    "for c in appointment_df.columns:\n",
    "    print(appointment_df[c].value_counts())"
   ]
  },
  {
   "cell_type": "markdown",
   "metadata": {},
   "source": [
    "The dataset also contains some categorical variables that need to be encoded for analysis"
   ]
  },
  {
   "cell_type": "code",
   "execution_count": 1058,
   "metadata": {},
   "outputs": [
    {
     "data": {
      "text/plain": [
       "62299"
      ]
     },
     "execution_count": 1058,
     "metadata": {},
     "output_type": "execute_result"
    }
   ],
   "source": [
    "# This is the number of unique patients in the dataset who have booked an appointment\n",
    "len(appointment_df[\"patientid\"].value_counts())"
   ]
  },
  {
   "cell_type": "code",
   "execution_count": 1059,
   "metadata": {},
   "outputs": [
    {
     "name": "stdout",
     "output_type": "stream",
     "text": [
      "patientid:  48228\n",
      "appointmentid: 0\n"
     ]
    }
   ],
   "source": [
    "# Check the number of patients in the dataset who have more than one appointment\n",
    "print(\"patientid: \", appointment_df[\"patientid\"].duplicated().sum())\n",
    "print(\"appointmentid:\", appointment_df[\"appointmentid\"].duplicated().sum())"
   ]
  },
  {
   "cell_type": "code",
   "execution_count": 1060,
   "metadata": {},
   "outputs": [
    {
     "name": "stdout",
     "output_type": "stream",
     "text": [
      "There are 110527 individual appointments in the dataset\n",
      "Out of the 110527 appointments, there are 62299 individual patients who have booked a single appointment and 48228 patients who have booked more than one appointment.\n",
      "This means that 43.63% of patients have booked more than one appointment.\n"
     ]
    }
   ],
   "source": [
    "# Check for the number of appointments in the dataset\n",
    "print(f\"There are {len(appointment_df['appointmentid'].value_counts())} individual appointments in the dataset\")\n",
    "# Check for the number of unique patients in the dataset who have booked an appointment and show the percentage of patients who have booked more than one appointment\n",
    "print(f\"Out of the {len(appointment_df['appointmentid'].value_counts())} appointments, there are {len(appointment_df['patientid'].value_counts())} individual patients who have booked a single appointment and {appointment_df['patientid'].duplicated().sum()} patients who have booked more than one appointment.\\nThis means that {round((appointment_df.shape[0] - len(appointment_df['patientid'].value_counts()))/appointment_df.shape[0]*100, 2)}% of patients have booked more than one appointment.\")"
   ]
  },
  {
   "cell_type": "code",
   "execution_count": 1061,
   "metadata": {},
   "outputs": [
    {
     "data": {
      "text/html": [
       "<div>\n",
       "<style scoped>\n",
       "    .dataframe tbody tr th:only-of-type {\n",
       "        vertical-align: middle;\n",
       "    }\n",
       "\n",
       "    .dataframe tbody tr th {\n",
       "        vertical-align: top;\n",
       "    }\n",
       "\n",
       "    .dataframe thead th {\n",
       "        text-align: right;\n",
       "    }\n",
       "</style>\n",
       "<table border=\"1\" class=\"dataframe\">\n",
       "  <thead>\n",
       "    <tr style=\"text-align: right;\">\n",
       "      <th></th>\n",
       "      <th>appointmentid</th>\n",
       "      <th>age</th>\n",
       "      <th>scholarship</th>\n",
       "      <th>hypertension</th>\n",
       "      <th>diabetes</th>\n",
       "      <th>alcoholism</th>\n",
       "      <th>handicap</th>\n",
       "      <th>sms_received</th>\n",
       "    </tr>\n",
       "  </thead>\n",
       "  <tbody>\n",
       "    <tr>\n",
       "      <th>0</th>\n",
       "      <td>5642903</td>\n",
       "      <td>62</td>\n",
       "      <td>0</td>\n",
       "      <td>1</td>\n",
       "      <td>0</td>\n",
       "      <td>0</td>\n",
       "      <td>0</td>\n",
       "      <td>0</td>\n",
       "    </tr>\n",
       "    <tr>\n",
       "      <th>1</th>\n",
       "      <td>5642503</td>\n",
       "      <td>56</td>\n",
       "      <td>0</td>\n",
       "      <td>0</td>\n",
       "      <td>0</td>\n",
       "      <td>0</td>\n",
       "      <td>0</td>\n",
       "      <td>0</td>\n",
       "    </tr>\n",
       "    <tr>\n",
       "      <th>2</th>\n",
       "      <td>5642549</td>\n",
       "      <td>62</td>\n",
       "      <td>0</td>\n",
       "      <td>0</td>\n",
       "      <td>0</td>\n",
       "      <td>0</td>\n",
       "      <td>0</td>\n",
       "      <td>0</td>\n",
       "    </tr>\n",
       "    <tr>\n",
       "      <th>3</th>\n",
       "      <td>5642828</td>\n",
       "      <td>8</td>\n",
       "      <td>0</td>\n",
       "      <td>0</td>\n",
       "      <td>0</td>\n",
       "      <td>0</td>\n",
       "      <td>0</td>\n",
       "      <td>0</td>\n",
       "    </tr>\n",
       "    <tr>\n",
       "      <th>4</th>\n",
       "      <td>5642494</td>\n",
       "      <td>56</td>\n",
       "      <td>0</td>\n",
       "      <td>1</td>\n",
       "      <td>1</td>\n",
       "      <td>0</td>\n",
       "      <td>0</td>\n",
       "      <td>0</td>\n",
       "    </tr>\n",
       "  </tbody>\n",
       "</table>\n",
       "</div>"
      ],
      "text/plain": [
       "   appointmentid  age  scholarship  hypertension  diabetes  alcoholism  \\\n",
       "0        5642903   62            0             1         0           0   \n",
       "1        5642503   56            0             0         0           0   \n",
       "2        5642549   62            0             0         0           0   \n",
       "3        5642828    8            0             0         0           0   \n",
       "4        5642494   56            0             1         1           0   \n",
       "\n",
       "   handicap  sms_received  \n",
       "0         0             0  \n",
       "1         0             0  \n",
       "2         0             0  \n",
       "3         0             0  \n",
       "4         0             0  "
      ]
     },
     "execution_count": 1061,
     "metadata": {},
     "output_type": "execute_result"
    }
   ],
   "source": [
    "# select and view all numerical columns in the dataset\n",
    "numerical_df = select_numerical_series(appointment_df)\n",
    "numerical_df.head()"
   ]
  },
  {
   "cell_type": "code",
   "execution_count": 1062,
   "metadata": {},
   "outputs": [
    {
     "name": "stdout",
     "output_type": "stream",
     "text": [
      "Total number of outliers in the Age column:  5\n",
      "Total number of outliers in the Scholarship column:  10861\n",
      "Total number of outliers in the Hypertension column:  21801\n",
      "Total number of outliers in the Diabetes column:  7943\n",
      "Total number of outliers in the Alcoholism column:  3360\n",
      "Total number of outliers in the Handicap column:  2241\n",
      "Total number of outliers in the SMS_received column:  0\n"
     ]
    }
   ],
   "source": [
    "# check for outliers in the numerical columns\n",
    "print(\"Total number of outliers in the Age column: \", get_outliers(appointment_df, \"age\").shape[0])\n",
    "print(\"Total number of outliers in the Scholarship column: \", get_outliers(appointment_df, \"scholarship\").shape[0])\n",
    "print(\"Total number of outliers in the Hypertension column: \", get_outliers(appointment_df, \"hypertension\").shape[0])\n",
    "print(\"Total number of outliers in the Diabetes column: \", get_outliers(appointment_df, \"diabetes\").shape[0])\n",
    "print(\"Total number of outliers in the Alcoholism column: \", get_outliers(appointment_df, \"alcoholism\").shape[0])\n",
    "print(\"Total number of outliers in the Handicap column: \", get_outliers(appointment_df, \"handicap\").shape[0])\n",
    "print(\"Total number of outliers in the SMS_received column: \", get_outliers(appointment_df, \"sms_received\").shape[0])\n"
   ]
  },
  {
   "cell_type": "markdown",
   "metadata": {},
   "source": [
    "The only outlier correctly represented is the age feature which is numerical, the rest are categorical hence invalid to have outliers."
   ]
  },
  {
   "cell_type": "code",
   "execution_count": 1064,
   "metadata": {},
   "outputs": [
    {
     "name": "stdout",
     "output_type": "stream",
     "text": [
      "Column: appointmentid\n",
      "Negative values: 0\n",
      "Zero values: 0\n",
      "\n",
      "\n",
      "Column: age\n",
      "Negative values: 1\n",
      "Zero values: 3539\n",
      "\n",
      "\n",
      "Column: scholarship\n",
      "Negative values: 0\n",
      "Zero values: 99666\n",
      "\n",
      "\n",
      "Column: hypertension\n",
      "Negative values: 0\n",
      "Zero values: 88726\n",
      "\n",
      "\n",
      "Column: diabetes\n",
      "Negative values: 0\n",
      "Zero values: 102584\n",
      "\n",
      "\n",
      "Column: alcoholism\n",
      "Negative values: 0\n",
      "Zero values: 107167\n",
      "\n",
      "\n",
      "Column: handicap\n",
      "Negative values: 0\n",
      "Zero values: 108286\n",
      "\n",
      "\n",
      "Column: sms_received\n",
      "Negative values: 0\n",
      "Zero values: 75045\n",
      "\n",
      "\n",
      "Column: no-show\n",
      "Negative values: 0\n",
      "Zero values: 88208\n",
      "\n",
      "\n"
     ]
    }
   ],
   "source": [
    "# Check for negative and zero values in the Age column and negative values in the other numerical columns\n",
    "check_neg_zero_values(appointment_df)"
   ]
  },
  {
   "cell_type": "markdown",
   "metadata": {},
   "source": [
    "The only column where the negative and zero are significant is the Age column as there are some negative values and zero age values. All other columns with numerical values are binary with positive values (0 and 1) respectively"
   ]
  },
  {
   "cell_type": "code",
   "execution_count": 1065,
   "metadata": {},
   "outputs": [
    {
     "data": {
      "text/html": [
       "<div>\n",
       "<style scoped>\n",
       "    .dataframe tbody tr th:only-of-type {\n",
       "        vertical-align: middle;\n",
       "    }\n",
       "\n",
       "    .dataframe tbody tr th {\n",
       "        vertical-align: top;\n",
       "    }\n",
       "\n",
       "    .dataframe thead th {\n",
       "        text-align: right;\n",
       "    }\n",
       "</style>\n",
       "<table border=\"1\" class=\"dataframe\">\n",
       "  <thead>\n",
       "    <tr style=\"text-align: right;\">\n",
       "      <th></th>\n",
       "      <th>patientid</th>\n",
       "      <th>gender</th>\n",
       "      <th>scheduledday</th>\n",
       "      <th>appointmentday</th>\n",
       "      <th>neighbourhood</th>\n",
       "    </tr>\n",
       "  </thead>\n",
       "  <tbody>\n",
       "    <tr>\n",
       "      <th>0</th>\n",
       "      <td>29872499824296.0</td>\n",
       "      <td>F</td>\n",
       "      <td>2016-04-29T18:38:08Z</td>\n",
       "      <td>2016-04-29T00:00:00Z</td>\n",
       "      <td>JARDIM DA PENHA</td>\n",
       "    </tr>\n",
       "    <tr>\n",
       "      <th>1</th>\n",
       "      <td>558997776694438.0</td>\n",
       "      <td>M</td>\n",
       "      <td>2016-04-29T16:08:27Z</td>\n",
       "      <td>2016-04-29T00:00:00Z</td>\n",
       "      <td>JARDIM DA PENHA</td>\n",
       "    </tr>\n",
       "    <tr>\n",
       "      <th>2</th>\n",
       "      <td>4262962299951.0</td>\n",
       "      <td>F</td>\n",
       "      <td>2016-04-29T16:19:04Z</td>\n",
       "      <td>2016-04-29T00:00:00Z</td>\n",
       "      <td>MATA DA PRAIA</td>\n",
       "    </tr>\n",
       "    <tr>\n",
       "      <th>3</th>\n",
       "      <td>867951213174.0</td>\n",
       "      <td>F</td>\n",
       "      <td>2016-04-29T17:29:31Z</td>\n",
       "      <td>2016-04-29T00:00:00Z</td>\n",
       "      <td>PONTAL DE CAMBURI</td>\n",
       "    </tr>\n",
       "    <tr>\n",
       "      <th>4</th>\n",
       "      <td>8841186448183.0</td>\n",
       "      <td>F</td>\n",
       "      <td>2016-04-29T16:07:23Z</td>\n",
       "      <td>2016-04-29T00:00:00Z</td>\n",
       "      <td>JARDIM DA PENHA</td>\n",
       "    </tr>\n",
       "  </tbody>\n",
       "</table>\n",
       "</div>"
      ],
      "text/plain": [
       "           patientid gender          scheduledday        appointmentday  \\\n",
       "0   29872499824296.0      F  2016-04-29T18:38:08Z  2016-04-29T00:00:00Z   \n",
       "1  558997776694438.0      M  2016-04-29T16:08:27Z  2016-04-29T00:00:00Z   \n",
       "2    4262962299951.0      F  2016-04-29T16:19:04Z  2016-04-29T00:00:00Z   \n",
       "3     867951213174.0      F  2016-04-29T17:29:31Z  2016-04-29T00:00:00Z   \n",
       "4    8841186448183.0      F  2016-04-29T16:07:23Z  2016-04-29T00:00:00Z   \n",
       "\n",
       "       neighbourhood  \n",
       "0    JARDIM DA PENHA  \n",
       "1    JARDIM DA PENHA  \n",
       "2      MATA DA PRAIA  \n",
       "3  PONTAL DE CAMBURI  \n",
       "4    JARDIM DA PENHA  "
      ]
     },
     "execution_count": 1065,
     "metadata": {},
     "output_type": "execute_result"
    }
   ],
   "source": [
    "#view all categorical columns\n",
    "categorical_df = select_categorical_series(appointment_df)\n",
    "categorical_df.head()"
   ]
  },
  {
   "cell_type": "code",
   "execution_count": 1066,
   "metadata": {},
   "outputs": [
    {
     "name": "stdout",
     "output_type": "stream",
     "text": [
      "count    110527.000000\n",
      "mean         37.088874\n",
      "std          23.110205\n",
      "min          -1.000000\n",
      "25%          18.000000\n",
      "50%          37.000000\n",
      "75%          55.000000\n",
      "max         115.000000\n",
      "Name: age, dtype: float64\n"
     ]
    }
   ],
   "source": [
    "# Explore the age distribution of the patients\n",
    "print(appointment_df[\"age\"].describe())"
   ]
  },
  {
   "cell_type": "markdown",
   "metadata": {},
   "source": [
    "There are 3539 patients with zero age values and 1 patient with negative age values in the dataset. These will be removed as it is not possible to have a negative age or zero age"
   ]
  },
  {
   "cell_type": "code",
   "execution_count": 1067,
   "metadata": {},
   "outputs": [],
   "source": [
    "# Drop the rows with wrong values for the age \n",
    "appointment_df.drop(appointment_df[appointment_df[\"age\"] <= 0].index, inplace=True)"
   ]
  },
  {
   "cell_type": "code",
   "execution_count": 1068,
   "metadata": {},
   "outputs": [
    {
     "name": "stdout",
     "output_type": "stream",
     "text": [
      "The average age of patients in the dataset is 38.32 years\n"
     ]
    }
   ],
   "source": [
    "# Average age of patients\n",
    "print(f\"The average age of patients in the dataset is {round(appointment_df['age'].mean(), 2)} years\")"
   ]
  },
  {
   "cell_type": "markdown",
   "metadata": {},
   "source": [
    "### CLEAN UP THE DATE COLUMNS AND FORMATS\n",
    "\n",
    "The ScheduledDay and AppointmentDay columns for hours:minutes:seconds are 00:00:00 which gives no time value for hours, minutes and seconds. \n",
    "The data type of both date columns will be modified from object(\"string\") to datetime suitable for manipulation and analysis. \n",
    "Both date columns will also be set to the same format for uniformity, easy manipulation and analysis."
   ]
  },
  {
   "cell_type": "code",
   "execution_count": 1069,
   "metadata": {},
   "outputs": [
    {
     "name": "stdout",
     "output_type": "stream",
     "text": [
      "0    2016-04-29T18:38:08Z\n",
      "1    2016-04-29T16:08:27Z\n",
      "2    2016-04-29T16:19:04Z\n",
      "3    2016-04-29T17:29:31Z\n",
      "4    2016-04-29T16:07:23Z\n",
      "Name: scheduledday, dtype: object\n",
      "0    2016-04-29T00:00:00Z\n",
      "1    2016-04-29T00:00:00Z\n",
      "2    2016-04-29T00:00:00Z\n",
      "3    2016-04-29T00:00:00Z\n",
      "4    2016-04-29T00:00:00Z\n",
      "Name: appointmentday, dtype: object\n"
     ]
    }
   ],
   "source": [
    "# Exlpore the date columns in the dataset\n",
    "print(appointment_df[\"scheduledday\"].head())\n",
    "print(appointment_df[\"appointmentday\"].head())"
   ]
  },
  {
   "cell_type": "code",
   "execution_count": 1070,
   "metadata": {},
   "outputs": [],
   "source": [
    "# Remove the hours, minutes and seconds from the date columns for uniformity\n",
    "appointment_df[\"scheduledday\"] = appointment_df[\"scheduledday\"].apply(lambda x: x.split(\"T\")[0])\n",
    "appointment_df[\"appointmentday\"] = appointment_df[\"appointmentday\"].apply(lambda x: x.split(\"T\")[0])\n",
    "\n",
    "# Change the AppointmentDay and ScheduledDay columns to datetime data type from object\n",
    "appointment_df[\"scheduledday\"] = pd.to_datetime(appointment_df[\"scheduledday\"])\n",
    "appointment_df[\"appointmentday\"] = pd.to_datetime(appointment_df[\"appointmentday\"])\n",
    "\n",
    "# Normalize the colums to remove the hours, minutes and seconds\n",
    "appointment_df[\"scheduledday\"] = appointment_df[\"scheduledday\"].dt.normalize()\n",
    "appointment_df[\"appointmentday\"] = appointment_df[\"appointmentday\"].dt.normalize()"
   ]
  },
  {
   "cell_type": "markdown",
   "metadata": {},
   "source": [
    "To ensure the operations to convert the date columns to datetime format are successful, the date columns will be checked for any missing values and the data types of the columns will be checked to ensure they are in the correct format."
   ]
  },
  {
   "cell_type": "code",
   "execution_count": 1071,
   "metadata": {},
   "outputs": [
    {
     "name": "stdout",
     "output_type": "stream",
     "text": [
      "scheduledday      datetime64[ns]\n",
      "appointmentday    datetime64[ns]\n",
      "dtype: object\n"
     ]
    }
   ],
   "source": [
    "# check the data types of the date columns \n",
    "print(appointment_df[[\"scheduledday\", \"appointmentday\"]].dtypes)"
   ]
  },
  {
   "cell_type": "code",
   "execution_count": 1072,
   "metadata": {},
   "outputs": [
    {
     "data": {
      "text/html": [
       "<div>\n",
       "<style scoped>\n",
       "    .dataframe tbody tr th:only-of-type {\n",
       "        vertical-align: middle;\n",
       "    }\n",
       "\n",
       "    .dataframe tbody tr th {\n",
       "        vertical-align: top;\n",
       "    }\n",
       "\n",
       "    .dataframe thead th {\n",
       "        text-align: right;\n",
       "    }\n",
       "</style>\n",
       "<table border=\"1\" class=\"dataframe\">\n",
       "  <thead>\n",
       "    <tr style=\"text-align: right;\">\n",
       "      <th></th>\n",
       "      <th>patientid</th>\n",
       "      <th>appointmentid</th>\n",
       "      <th>gender</th>\n",
       "      <th>scheduledday</th>\n",
       "      <th>appointmentday</th>\n",
       "      <th>age</th>\n",
       "      <th>neighbourhood</th>\n",
       "      <th>scholarship</th>\n",
       "      <th>hypertension</th>\n",
       "      <th>diabetes</th>\n",
       "      <th>alcoholism</th>\n",
       "      <th>handicap</th>\n",
       "      <th>sms_received</th>\n",
       "      <th>no-show</th>\n",
       "      <th>weekday</th>\n",
       "    </tr>\n",
       "  </thead>\n",
       "  <tbody>\n",
       "    <tr>\n",
       "      <th>0</th>\n",
       "      <td>29872499824296.0</td>\n",
       "      <td>5642903</td>\n",
       "      <td>F</td>\n",
       "      <td>2016-04-29</td>\n",
       "      <td>2016-04-29</td>\n",
       "      <td>62</td>\n",
       "      <td>JARDIM DA PENHA</td>\n",
       "      <td>0</td>\n",
       "      <td>1</td>\n",
       "      <td>0</td>\n",
       "      <td>0</td>\n",
       "      <td>0</td>\n",
       "      <td>0</td>\n",
       "      <td>0</td>\n",
       "      <td>Friday</td>\n",
       "    </tr>\n",
       "    <tr>\n",
       "      <th>1</th>\n",
       "      <td>558997776694438.0</td>\n",
       "      <td>5642503</td>\n",
       "      <td>M</td>\n",
       "      <td>2016-04-29</td>\n",
       "      <td>2016-04-29</td>\n",
       "      <td>56</td>\n",
       "      <td>JARDIM DA PENHA</td>\n",
       "      <td>0</td>\n",
       "      <td>0</td>\n",
       "      <td>0</td>\n",
       "      <td>0</td>\n",
       "      <td>0</td>\n",
       "      <td>0</td>\n",
       "      <td>0</td>\n",
       "      <td>Friday</td>\n",
       "    </tr>\n",
       "    <tr>\n",
       "      <th>2</th>\n",
       "      <td>4262962299951.0</td>\n",
       "      <td>5642549</td>\n",
       "      <td>F</td>\n",
       "      <td>2016-04-29</td>\n",
       "      <td>2016-04-29</td>\n",
       "      <td>62</td>\n",
       "      <td>MATA DA PRAIA</td>\n",
       "      <td>0</td>\n",
       "      <td>0</td>\n",
       "      <td>0</td>\n",
       "      <td>0</td>\n",
       "      <td>0</td>\n",
       "      <td>0</td>\n",
       "      <td>0</td>\n",
       "      <td>Friday</td>\n",
       "    </tr>\n",
       "    <tr>\n",
       "      <th>3</th>\n",
       "      <td>867951213174.0</td>\n",
       "      <td>5642828</td>\n",
       "      <td>F</td>\n",
       "      <td>2016-04-29</td>\n",
       "      <td>2016-04-29</td>\n",
       "      <td>8</td>\n",
       "      <td>PONTAL DE CAMBURI</td>\n",
       "      <td>0</td>\n",
       "      <td>0</td>\n",
       "      <td>0</td>\n",
       "      <td>0</td>\n",
       "      <td>0</td>\n",
       "      <td>0</td>\n",
       "      <td>0</td>\n",
       "      <td>Friday</td>\n",
       "    </tr>\n",
       "    <tr>\n",
       "      <th>4</th>\n",
       "      <td>8841186448183.0</td>\n",
       "      <td>5642494</td>\n",
       "      <td>F</td>\n",
       "      <td>2016-04-29</td>\n",
       "      <td>2016-04-29</td>\n",
       "      <td>56</td>\n",
       "      <td>JARDIM DA PENHA</td>\n",
       "      <td>0</td>\n",
       "      <td>1</td>\n",
       "      <td>1</td>\n",
       "      <td>0</td>\n",
       "      <td>0</td>\n",
       "      <td>0</td>\n",
       "      <td>0</td>\n",
       "      <td>Friday</td>\n",
       "    </tr>\n",
       "  </tbody>\n",
       "</table>\n",
       "</div>"
      ],
      "text/plain": [
       "           patientid  appointmentid gender scheduledday appointmentday  age  \\\n",
       "0   29872499824296.0        5642903      F   2016-04-29     2016-04-29   62   \n",
       "1  558997776694438.0        5642503      M   2016-04-29     2016-04-29   56   \n",
       "2    4262962299951.0        5642549      F   2016-04-29     2016-04-29   62   \n",
       "3     867951213174.0        5642828      F   2016-04-29     2016-04-29    8   \n",
       "4    8841186448183.0        5642494      F   2016-04-29     2016-04-29   56   \n",
       "\n",
       "       neighbourhood  scholarship  hypertension  diabetes  alcoholism  \\\n",
       "0    JARDIM DA PENHA            0             1         0           0   \n",
       "1    JARDIM DA PENHA            0             0         0           0   \n",
       "2      MATA DA PRAIA            0             0         0           0   \n",
       "3  PONTAL DE CAMBURI            0             0         0           0   \n",
       "4    JARDIM DA PENHA            0             1         1           0   \n",
       "\n",
       "   handicap  sms_received  no-show weekday  \n",
       "0         0             0        0  Friday  \n",
       "1         0             0        0  Friday  \n",
       "2         0             0        0  Friday  \n",
       "3         0             0        0  Friday  \n",
       "4         0             0        0  Friday  "
      ]
     },
     "execution_count": 1072,
     "metadata": {},
     "output_type": "execute_result"
    }
   ],
   "source": [
    "# Add a new column to the dataset to show the day of the week for the appointment for further analysis\n",
    "appointment_df[\"weekday\"] = appointment_df[\"appointmentday\"].dt.day_name()\n",
    "\n",
    "appointment_df.head()"
   ]
  },
  {
   "cell_type": "code",
   "execution_count": 1073,
   "metadata": {},
   "outputs": [
    {
     "name": "stdout",
     "output_type": "stream",
     "text": [
      "<class 'pandas.core.frame.DataFrame'>\n",
      "Index: 106987 entries, 0 to 110526\n",
      "Data columns (total 15 columns):\n",
      " #   Column          Non-Null Count   Dtype         \n",
      "---  ------          --------------   -----         \n",
      " 0   patientid       106987 non-null  object        \n",
      " 1   appointmentid   106987 non-null  int64         \n",
      " 2   gender          106987 non-null  object        \n",
      " 3   scheduledday    106987 non-null  datetime64[ns]\n",
      " 4   appointmentday  106987 non-null  datetime64[ns]\n",
      " 5   age             106987 non-null  int64         \n",
      " 6   neighbourhood   106987 non-null  object        \n",
      " 7   scholarship     106987 non-null  int64         \n",
      " 8   hypertension    106987 non-null  int64         \n",
      " 9   diabetes        106987 non-null  int64         \n",
      " 10  alcoholism      106987 non-null  int64         \n",
      " 11  handicap        106987 non-null  int64         \n",
      " 12  sms_received    106987 non-null  int64         \n",
      " 13  no-show         106987 non-null  int32         \n",
      " 14  weekday         106987 non-null  object        \n",
      "dtypes: datetime64[ns](2), int32(1), int64(8), object(4)\n",
      "memory usage: 12.7+ MB\n"
     ]
    }
   ],
   "source": [
    "# The date columns have been changed to datetime data type\n",
    "appointment_df.info()"
   ]
  },
  {
   "cell_type": "code",
   "execution_count": 1074,
   "metadata": {},
   "outputs": [
    {
     "name": "stdout",
     "output_type": "stream",
     "text": [
      "The total number of days for the appointments in the dataset is 40 days 00:00:00days\n"
     ]
    }
   ],
   "source": [
    "# Check for the total number of days for the appointments in the dataset\n",
    "print(f\"The total number of days for the appointments in the dataset is {max(appointment_df['appointmentday']) - min(appointment_df['appointmentday'])}days\")"
   ]
  },
  {
   "cell_type": "code",
   "execution_count": 1075,
   "metadata": {},
   "outputs": [
    {
     "name": "stdout",
     "output_type": "stream",
     "text": [
      "The range of date for the appointments in the dataset is from 2015-11-10 00:00:00 to 2016-06-08 00:00:00\n",
      "This is a total of 211 days 00:00:00 days\n"
     ]
    }
   ],
   "source": [
    "# Check the range of date for the appointments in the dataset from first day to last day\n",
    "print(f\"The range of date for the appointments in the dataset is from {min(appointment_df['scheduledday'])} to {max(appointment_df['scheduledday'])}\")\n",
    "print(f\"This is a total of {max(appointment_df['scheduledday']) - min(appointment_df['scheduledday'])} days\")"
   ]
  },
  {
   "cell_type": "markdown",
   "metadata": {},
   "source": [
    "The appointment dataset has appointments recorded for 40 days starting from 2016-04-29 to 2016-06-08 covering 211 days"
   ]
  },
  {
   "cell_type": "code",
   "execution_count": 1076,
   "metadata": {},
   "outputs": [
    {
     "data": {
      "text/plain": [
       "count                106987\n",
       "unique                60270\n",
       "top       822145925426128.0\n",
       "freq                     88\n",
       "Name: patientid, dtype: object"
      ]
     },
     "execution_count": 1076,
     "metadata": {},
     "output_type": "execute_result"
    }
   ],
   "source": [
    "# View the type of the patient ID column\n",
    "appointment_df[\"patientid\"].describe()"
   ]
  },
  {
   "cell_type": "markdown",
   "metadata": {},
   "source": [
    "Wait Time: The wait time between the scheduled day and the appointment day will be calculated and added as a new feature (Column) to the dataset. The wait time will be calculated in days and will be used to determine if the wait time has an impact on the patient's likelihood of showing up for the appointment."
   ]
  },
  {
   "cell_type": "code",
   "execution_count": 1077,
   "metadata": {},
   "outputs": [],
   "source": [
    "# Add a new column \"waitime\" to the dataset to show the number of days between the scheduled day and the appointment day\n",
    "# This will help to determine the appointment waiting time/lead time for the patients for later analysis\n",
    "\n",
    "appointment_df[\"waittime\"] = appointment_df[\"appointmentday\"] - appointment_df[\"scheduledday\"]\n",
    "# Store the date values as days in the new column\n",
    "appointment_df[\"waittime\"] = appointment_df[\"waittime\"].dt.days"
   ]
  },
  {
   "cell_type": "markdown",
   "metadata": {},
   "source": [
    "I will view the dataset to confirm that the \"waititme\" column is added to it as this will help in understanding the relationship between the number of days between the scheduled day and the appointment day and the no-show status of the patient."
   ]
  },
  {
   "cell_type": "code",
   "execution_count": 1078,
   "metadata": {},
   "outputs": [
    {
     "data": {
      "text/html": [
       "<div>\n",
       "<style scoped>\n",
       "    .dataframe tbody tr th:only-of-type {\n",
       "        vertical-align: middle;\n",
       "    }\n",
       "\n",
       "    .dataframe tbody tr th {\n",
       "        vertical-align: top;\n",
       "    }\n",
       "\n",
       "    .dataframe thead th {\n",
       "        text-align: right;\n",
       "    }\n",
       "</style>\n",
       "<table border=\"1\" class=\"dataframe\">\n",
       "  <thead>\n",
       "    <tr style=\"text-align: right;\">\n",
       "      <th></th>\n",
       "      <th>patientid</th>\n",
       "      <th>appointmentid</th>\n",
       "      <th>gender</th>\n",
       "      <th>scheduledday</th>\n",
       "      <th>appointmentday</th>\n",
       "      <th>age</th>\n",
       "      <th>neighbourhood</th>\n",
       "      <th>scholarship</th>\n",
       "      <th>hypertension</th>\n",
       "      <th>diabetes</th>\n",
       "      <th>alcoholism</th>\n",
       "      <th>handicap</th>\n",
       "      <th>sms_received</th>\n",
       "      <th>no-show</th>\n",
       "      <th>weekday</th>\n",
       "      <th>waittime</th>\n",
       "    </tr>\n",
       "  </thead>\n",
       "  <tbody>\n",
       "    <tr>\n",
       "      <th>0</th>\n",
       "      <td>29872499824296.0</td>\n",
       "      <td>5642903</td>\n",
       "      <td>F</td>\n",
       "      <td>2016-04-29</td>\n",
       "      <td>2016-04-29</td>\n",
       "      <td>62</td>\n",
       "      <td>JARDIM DA PENHA</td>\n",
       "      <td>0</td>\n",
       "      <td>1</td>\n",
       "      <td>0</td>\n",
       "      <td>0</td>\n",
       "      <td>0</td>\n",
       "      <td>0</td>\n",
       "      <td>0</td>\n",
       "      <td>Friday</td>\n",
       "      <td>0</td>\n",
       "    </tr>\n",
       "    <tr>\n",
       "      <th>1</th>\n",
       "      <td>558997776694438.0</td>\n",
       "      <td>5642503</td>\n",
       "      <td>M</td>\n",
       "      <td>2016-04-29</td>\n",
       "      <td>2016-04-29</td>\n",
       "      <td>56</td>\n",
       "      <td>JARDIM DA PENHA</td>\n",
       "      <td>0</td>\n",
       "      <td>0</td>\n",
       "      <td>0</td>\n",
       "      <td>0</td>\n",
       "      <td>0</td>\n",
       "      <td>0</td>\n",
       "      <td>0</td>\n",
       "      <td>Friday</td>\n",
       "      <td>0</td>\n",
       "    </tr>\n",
       "    <tr>\n",
       "      <th>2</th>\n",
       "      <td>4262962299951.0</td>\n",
       "      <td>5642549</td>\n",
       "      <td>F</td>\n",
       "      <td>2016-04-29</td>\n",
       "      <td>2016-04-29</td>\n",
       "      <td>62</td>\n",
       "      <td>MATA DA PRAIA</td>\n",
       "      <td>0</td>\n",
       "      <td>0</td>\n",
       "      <td>0</td>\n",
       "      <td>0</td>\n",
       "      <td>0</td>\n",
       "      <td>0</td>\n",
       "      <td>0</td>\n",
       "      <td>Friday</td>\n",
       "      <td>0</td>\n",
       "    </tr>\n",
       "    <tr>\n",
       "      <th>3</th>\n",
       "      <td>867951213174.0</td>\n",
       "      <td>5642828</td>\n",
       "      <td>F</td>\n",
       "      <td>2016-04-29</td>\n",
       "      <td>2016-04-29</td>\n",
       "      <td>8</td>\n",
       "      <td>PONTAL DE CAMBURI</td>\n",
       "      <td>0</td>\n",
       "      <td>0</td>\n",
       "      <td>0</td>\n",
       "      <td>0</td>\n",
       "      <td>0</td>\n",
       "      <td>0</td>\n",
       "      <td>0</td>\n",
       "      <td>Friday</td>\n",
       "      <td>0</td>\n",
       "    </tr>\n",
       "    <tr>\n",
       "      <th>4</th>\n",
       "      <td>8841186448183.0</td>\n",
       "      <td>5642494</td>\n",
       "      <td>F</td>\n",
       "      <td>2016-04-29</td>\n",
       "      <td>2016-04-29</td>\n",
       "      <td>56</td>\n",
       "      <td>JARDIM DA PENHA</td>\n",
       "      <td>0</td>\n",
       "      <td>1</td>\n",
       "      <td>1</td>\n",
       "      <td>0</td>\n",
       "      <td>0</td>\n",
       "      <td>0</td>\n",
       "      <td>0</td>\n",
       "      <td>Friday</td>\n",
       "      <td>0</td>\n",
       "    </tr>\n",
       "  </tbody>\n",
       "</table>\n",
       "</div>"
      ],
      "text/plain": [
       "           patientid  appointmentid gender scheduledday appointmentday  age  \\\n",
       "0   29872499824296.0        5642903      F   2016-04-29     2016-04-29   62   \n",
       "1  558997776694438.0        5642503      M   2016-04-29     2016-04-29   56   \n",
       "2    4262962299951.0        5642549      F   2016-04-29     2016-04-29   62   \n",
       "3     867951213174.0        5642828      F   2016-04-29     2016-04-29    8   \n",
       "4    8841186448183.0        5642494      F   2016-04-29     2016-04-29   56   \n",
       "\n",
       "       neighbourhood  scholarship  hypertension  diabetes  alcoholism  \\\n",
       "0    JARDIM DA PENHA            0             1         0           0   \n",
       "1    JARDIM DA PENHA            0             0         0           0   \n",
       "2      MATA DA PRAIA            0             0         0           0   \n",
       "3  PONTAL DE CAMBURI            0             0         0           0   \n",
       "4    JARDIM DA PENHA            0             1         1           0   \n",
       "\n",
       "   handicap  sms_received  no-show weekday  waittime  \n",
       "0         0             0        0  Friday         0  \n",
       "1         0             0        0  Friday         0  \n",
       "2         0             0        0  Friday         0  \n",
       "3         0             0        0  Friday         0  \n",
       "4         0             0        0  Friday         0  "
      ]
     },
     "execution_count": 1078,
     "metadata": {},
     "output_type": "execute_result"
    }
   ],
   "source": [
    "appointment_df.head()"
   ]
  },
  {
   "cell_type": "code",
   "execution_count": 1079,
   "metadata": {},
   "outputs": [
    {
     "data": {
      "text/plain": [
       "count    106987.000000\n",
       "mean         10.166721\n",
       "std          15.263508\n",
       "min          -6.000000\n",
       "25%           0.000000\n",
       "50%           4.000000\n",
       "75%          14.000000\n",
       "max         179.000000\n",
       "Name: waittime, dtype: float64"
      ]
     },
     "execution_count": 1079,
     "metadata": {},
     "output_type": "execute_result"
    }
   ],
   "source": [
    "appointment_df[\"waittime\"].describe()"
   ]
  },
  {
   "cell_type": "markdown",
   "metadata": {},
   "source": [
    "This shows that there are some appointments that were scheduled after the appointment day resulting in negative waittime. This is not possible and will be removed from the dataset as it gives a wrong representation of the data showing negative wait time."
   ]
  },
  {
   "cell_type": "code",
   "execution_count": 1080,
   "metadata": {},
   "outputs": [
    {
     "data": {
      "text/plain": [
       "waittime\n",
       "-1    4\n",
       "-6    1\n",
       "Name: count, dtype: int64"
      ]
     },
     "execution_count": 1080,
     "metadata": {},
     "output_type": "execute_result"
    }
   ],
   "source": [
    "# check for the number of Negative values in the WaitTime column (i.e. appointments that were scheduled after the appointment day)\n",
    "# Check for the rows where the waiting time is negative (Scenarios where the appointment day is before the scheduled day)\n",
    "\n",
    "np.sum(appointment_df[\"waittime\"] < 0)\n",
    "appointment_df.waittime[appointment_df[\"waittime\"] < 0].value_counts()"
   ]
  },
  {
   "cell_type": "markdown",
   "metadata": {},
   "source": [
    "There are 5 rows where the waiting time is negative. These rows will be removed from the dataset later on for better analysis"
   ]
  },
  {
   "cell_type": "code",
   "execution_count": 1081,
   "metadata": {},
   "outputs": [],
   "source": [
    "# drop the rows where the waiting time is negative\n",
    "appointment_df.drop(appointment_df[appointment_df[\"waittime\"] < 0].index, inplace=True)"
   ]
  },
  {
   "cell_type": "markdown",
   "metadata": {},
   "source": [
    "Appointment count: The number of appointments scheduled for each patient will be calculated and added as a new feature (appointmentcount) to the dataset as this will help in understanding the relationship between the number of appointments scheduled for a patient and the no-show status of the patient."
   ]
  },
  {
   "cell_type": "code",
   "execution_count": 1085,
   "metadata": {},
   "outputs": [],
   "source": [
    "# Add the number of Appointments for each patient to the dataset\n",
    "appointment_df[\"appointmentcount\"] = appointment_df[\"patientid\"].map(appointment_df[\"patientid\"].value_counts())\n"
   ]
  },
  {
   "cell_type": "code",
   "execution_count": 1086,
   "metadata": {},
   "outputs": [
    {
     "data": {
      "text/html": [
       "<div>\n",
       "<style scoped>\n",
       "    .dataframe tbody tr th:only-of-type {\n",
       "        vertical-align: middle;\n",
       "    }\n",
       "\n",
       "    .dataframe tbody tr th {\n",
       "        vertical-align: top;\n",
       "    }\n",
       "\n",
       "    .dataframe thead th {\n",
       "        text-align: right;\n",
       "    }\n",
       "</style>\n",
       "<table border=\"1\" class=\"dataframe\">\n",
       "  <thead>\n",
       "    <tr style=\"text-align: right;\">\n",
       "      <th></th>\n",
       "      <th>patientid</th>\n",
       "      <th>appointmentid</th>\n",
       "      <th>gender</th>\n",
       "      <th>scheduledday</th>\n",
       "      <th>appointmentday</th>\n",
       "      <th>age</th>\n",
       "      <th>neighbourhood</th>\n",
       "      <th>scholarship</th>\n",
       "      <th>hypertension</th>\n",
       "      <th>diabetes</th>\n",
       "      <th>alcoholism</th>\n",
       "      <th>handicap</th>\n",
       "      <th>sms_received</th>\n",
       "      <th>no-show</th>\n",
       "      <th>weekday</th>\n",
       "      <th>waittime</th>\n",
       "      <th>appointmentcount</th>\n",
       "    </tr>\n",
       "  </thead>\n",
       "  <tbody>\n",
       "    <tr>\n",
       "      <th>0</th>\n",
       "      <td>29872499824296.0</td>\n",
       "      <td>5642903</td>\n",
       "      <td>F</td>\n",
       "      <td>2016-04-29</td>\n",
       "      <td>2016-04-29</td>\n",
       "      <td>62</td>\n",
       "      <td>JARDIM DA PENHA</td>\n",
       "      <td>0</td>\n",
       "      <td>1</td>\n",
       "      <td>0</td>\n",
       "      <td>0</td>\n",
       "      <td>0</td>\n",
       "      <td>0</td>\n",
       "      <td>0</td>\n",
       "      <td>Friday</td>\n",
       "      <td>0</td>\n",
       "      <td>2</td>\n",
       "    </tr>\n",
       "    <tr>\n",
       "      <th>1</th>\n",
       "      <td>558997776694438.0</td>\n",
       "      <td>5642503</td>\n",
       "      <td>M</td>\n",
       "      <td>2016-04-29</td>\n",
       "      <td>2016-04-29</td>\n",
       "      <td>56</td>\n",
       "      <td>JARDIM DA PENHA</td>\n",
       "      <td>0</td>\n",
       "      <td>0</td>\n",
       "      <td>0</td>\n",
       "      <td>0</td>\n",
       "      <td>0</td>\n",
       "      <td>0</td>\n",
       "      <td>0</td>\n",
       "      <td>Friday</td>\n",
       "      <td>0</td>\n",
       "      <td>2</td>\n",
       "    </tr>\n",
       "    <tr>\n",
       "      <th>2</th>\n",
       "      <td>4262962299951.0</td>\n",
       "      <td>5642549</td>\n",
       "      <td>F</td>\n",
       "      <td>2016-04-29</td>\n",
       "      <td>2016-04-29</td>\n",
       "      <td>62</td>\n",
       "      <td>MATA DA PRAIA</td>\n",
       "      <td>0</td>\n",
       "      <td>0</td>\n",
       "      <td>0</td>\n",
       "      <td>0</td>\n",
       "      <td>0</td>\n",
       "      <td>0</td>\n",
       "      <td>0</td>\n",
       "      <td>Friday</td>\n",
       "      <td>0</td>\n",
       "      <td>2</td>\n",
       "    </tr>\n",
       "    <tr>\n",
       "      <th>3</th>\n",
       "      <td>867951213174.0</td>\n",
       "      <td>5642828</td>\n",
       "      <td>F</td>\n",
       "      <td>2016-04-29</td>\n",
       "      <td>2016-04-29</td>\n",
       "      <td>8</td>\n",
       "      <td>PONTAL DE CAMBURI</td>\n",
       "      <td>0</td>\n",
       "      <td>0</td>\n",
       "      <td>0</td>\n",
       "      <td>0</td>\n",
       "      <td>0</td>\n",
       "      <td>0</td>\n",
       "      <td>0</td>\n",
       "      <td>Friday</td>\n",
       "      <td>0</td>\n",
       "      <td>2</td>\n",
       "    </tr>\n",
       "    <tr>\n",
       "      <th>4</th>\n",
       "      <td>8841186448183.0</td>\n",
       "      <td>5642494</td>\n",
       "      <td>F</td>\n",
       "      <td>2016-04-29</td>\n",
       "      <td>2016-04-29</td>\n",
       "      <td>56</td>\n",
       "      <td>JARDIM DA PENHA</td>\n",
       "      <td>0</td>\n",
       "      <td>1</td>\n",
       "      <td>1</td>\n",
       "      <td>0</td>\n",
       "      <td>0</td>\n",
       "      <td>0</td>\n",
       "      <td>0</td>\n",
       "      <td>Friday</td>\n",
       "      <td>0</td>\n",
       "      <td>1</td>\n",
       "    </tr>\n",
       "  </tbody>\n",
       "</table>\n",
       "</div>"
      ],
      "text/plain": [
       "           patientid  appointmentid gender scheduledday appointmentday  age  \\\n",
       "0   29872499824296.0        5642903      F   2016-04-29     2016-04-29   62   \n",
       "1  558997776694438.0        5642503      M   2016-04-29     2016-04-29   56   \n",
       "2    4262962299951.0        5642549      F   2016-04-29     2016-04-29   62   \n",
       "3     867951213174.0        5642828      F   2016-04-29     2016-04-29    8   \n",
       "4    8841186448183.0        5642494      F   2016-04-29     2016-04-29   56   \n",
       "\n",
       "       neighbourhood  scholarship  hypertension  diabetes  alcoholism  \\\n",
       "0    JARDIM DA PENHA            0             1         0           0   \n",
       "1    JARDIM DA PENHA            0             0         0           0   \n",
       "2      MATA DA PRAIA            0             0         0           0   \n",
       "3  PONTAL DE CAMBURI            0             0         0           0   \n",
       "4    JARDIM DA PENHA            0             1         1           0   \n",
       "\n",
       "   handicap  sms_received  no-show weekday  waittime  appointmentcount  \n",
       "0         0             0        0  Friday         0                 2  \n",
       "1         0             0        0  Friday         0                 2  \n",
       "2         0             0        0  Friday         0                 2  \n",
       "3         0             0        0  Friday         0                 2  \n",
       "4         0             0        0  Friday         0                 1  "
      ]
     },
     "execution_count": 1086,
     "metadata": {},
     "output_type": "execute_result"
    }
   ],
   "source": [
    "appointment_df.head()"
   ]
  },
  {
   "cell_type": "markdown",
   "metadata": {},
   "source": [
    "HANDICAP COLUMN:\n",
    "The only useful handicap values are 0 and 1 which means the patient is not handicapped or is handicapped respectively. The other values i.e 2,3,4 showing range of handicap are not useful and will be changed to 1 to show that the patient is handicapped."
   ]
  },
  {
   "cell_type": "code",
   "execution_count": 1087,
   "metadata": {},
   "outputs": [
    {
     "data": {
      "text/plain": [
       "199"
      ]
     },
     "execution_count": 1087,
     "metadata": {},
     "output_type": "execute_result"
    }
   ],
   "source": [
    "# Check for patients with handicap values greater than 1\n",
    "np.sum(appointment_df[\"handicap\"] > 1)"
   ]
  },
  {
   "cell_type": "code",
   "execution_count": 1088,
   "metadata": {},
   "outputs": [
    {
     "name": "stdout",
     "output_type": "stream",
     "text": [
      "[0 1 2 3 4]\n"
     ]
    }
   ],
   "source": [
    "# show all the unique values in the handicap column\n",
    "print(appointment_df[\"handicap\"].unique())"
   ]
  },
  {
   "cell_type": "code",
   "execution_count": 1089,
   "metadata": {},
   "outputs": [],
   "source": [
    "# set all patient with handicap value greater than 1 to 1\n",
    "appointment_df[\"handicap\"] = appointment_df[\"handicap\"].apply(lambda x: 1 if x > 1 else x)"
   ]
  },
  {
   "cell_type": "code",
   "execution_count": 1090,
   "metadata": {},
   "outputs": [
    {
     "name": "stdout",
     "output_type": "stream",
     "text": [
      "69828 apointments were scheduled before the appointment day\n"
     ]
    }
   ],
   "source": [
    "# Filter the 'appointment_df' dataframe to show appontments that were scheduled before the appointment day#\n",
    "print(f'{appointment_df[appointment_df[\"waittime\"] > 0].shape[0]} apointments were scheduled before the appointment day')"
   ]
  },
  {
   "cell_type": "code",
   "execution_count": 1091,
   "metadata": {},
   "outputs": [
    {
     "name": "stdout",
     "output_type": "stream",
     "text": [
      "37154 appointments were scheduled on the same day as the appointment day\n"
     ]
    }
   ],
   "source": [
    "# check for waiting days equal to zero (i.e. same day appointments)\n",
    "print(f'{appointment_df[appointment_df[\"waittime\"] == 0].shape[0]} appointments were scheduled on the same day as the appointment day')"
   ]
  },
  {
   "cell_type": "markdown",
   "metadata": {},
   "source": [
    "To shows that the cleaning operations were succesfull, the dataset will be displayed to show the changes made to the columns"
   ]
  },
  {
   "cell_type": "code",
   "execution_count": 1092,
   "metadata": {},
   "outputs": [
    {
     "name": "stdout",
     "output_type": "stream",
     "text": [
      "Before cleaning and preprocessing the dataset (110527, 14)\n",
      "After cleaning and preprocessing the dataset (106982, 17)\n"
     ]
    }
   ],
   "source": [
    "print(f\"Before cleaning and preprocessing the dataset {data_df.shape}\")\n",
    "print(f\"After cleaning and preprocessing the dataset {appointment_df.shape}\")"
   ]
  },
  {
   "cell_type": "markdown",
   "metadata": {},
   "source": [
    "The dataset has been cleaned and preprocessed and is now ready for analysis and modeling. They are a total of 69828 appointments scheduled before the appointment day and 37154 appointments scheduled on the same day as the appointment day, giving a total of 106982 appointments for analysis. The cleaned dataset will saved as a new csv file for further analysis and modeling"
   ]
  },
  {
   "cell_type": "code",
   "execution_count": 1093,
   "metadata": {},
   "outputs": [],
   "source": [
    "appointment_df.to_csv(\"data/cleaned_medical_appointments.csv\", index=False)"
   ]
  }
 ],
 "metadata": {
  "kernelspec": {
   "display_name": "Python 3",
   "language": "python",
   "name": "python3"
  },
  "language_info": {
   "codemirror_mode": {
    "name": "ipython",
    "version": 3
   },
   "file_extension": ".py",
   "mimetype": "text/x-python",
   "name": "python",
   "nbconvert_exporter": "python",
   "pygments_lexer": "ipython3",
   "version": "3.10.1"
  }
 },
 "nbformat": 4,
 "nbformat_minor": 4
}
